{
  "nbformat": 4,
  "nbformat_minor": 0,
  "metadata": {
    "colab": {
      "provenance": []
    },
    "kernelspec": {
      "name": "python3",
      "display_name": "Python 3"
    },
    "language_info": {
      "name": "python"
    }
  },
  "cells": [
    {
      "cell_type": "code",
      "execution_count": 9,
      "metadata": {
        "colab": {
          "base_uri": "https://localhost:8080/"
        },
        "id": "SyGGJFPl0JKW",
        "outputId": "52a29fc1-d9c3-4522-a753-2718008804cd"
      },
      "outputs": [
        {
          "output_type": "stream",
          "name": "stdout",
          "text": [
            "\n",
            "Sentiment Analysis Results:\n",
            "--------------------------------------------------\n",
            "\n",
            "Review #1\n",
            "Text: Happy client - I am happy with all my purchases I did recently with myer....\n",
            "Sentiment: positive\n",
            "Confidence: 0.98\n",
            "\n",
            "Review #2\n",
            "Text: terrible trying to contact them about an order...what a waste of time. Email does not work. Have they got an email?...\n",
            "Sentiment: negative\n",
            "Confidence: 0.99\n",
            "\n",
            "Review #3\n",
            "Text: Wrong item delivered. We ordered an item for a little girl's birthday gift (dress). They send a adult swimming suit instead. Chat to robot - suggested to go to store- would change the item. But store ...\n",
            "Sentiment: negative\n",
            "Confidence: 0.99\n",
            "\n",
            "Review #4\n",
            "Text: Great experience shopping at Myer...\n",
            "Sentiment: positive\n",
            "Confidence: 0.99\n",
            "\n",
            "Review #5\n",
            "Text: Great...\n",
            "Sentiment: positive\n",
            "Confidence: 0.99\n"
          ]
        }
      ],
      "source": [
        "# Import required libraries\n",
        "from transformers import pipeline # For accessing pre-trained models\n",
        "import pandas as pd               # For data manipulation\n",
        "\n",
        "# Initialise the classifier\n",
        "classifier = pipeline(\n",
        "    task=\"zero-shot-classification\",\n",
        "    model=\"facebook/bart-large-mnli\"\n",
        ")\n",
        "\n",
        "# Define reviews\n",
        "reviews = [\n",
        "    \"Happy client - I am happy with all my purchases I did recently with myer.\",\n",
        "    \"terrible trying to contact them about an order...what a waste of time. Email does not work. Have they got an email?\",\n",
        "    \"Wrong item delivered. We ordered an item for a little girl's birthday gift (dress). They send a adult swimming suit instead. Chat to robot - suggested to go to store- would change the item. But store denied to exchange as it was online order. They would refund money. Not sure I would get the postage charge back ($10). So bad experience - I would think thrice to order again online from Myer.\",\n",
        "    \"Great experience shopping at Myer\",\n",
        "    \"Great\"\n",
        "]\n",
        "\n",
        "# Create a DataFrame from the reviews\n",
        "reviews_df = pd.DataFrame(reviews, columns=[\"text\"])\n",
        "\n",
        "# Define possible sentiment categories\n",
        "candidate_labels = [\"positive\", \"negative\", \"neutral\"]\n",
        "\n",
        "def analyze_sentiment(text):\n",
        "    \"\"\"\n",
        "    Analyze the sentiment of a piece of text.\n",
        "\n",
        "    Args:\n",
        "        text (str): The text to analyze\n",
        "\n",
        "    Returns:\n",
        "        dict: Contains sentiment label and confidence score\n",
        "    \"\"\"\n",
        "    # Process the text through our classifier\n",
        "    result = classifier(text, candidate_labels)\n",
        "\n",
        "    # Return a dictionary with our results\n",
        "    return {\n",
        "        'sentiment': result['labels'][0],      # The most likely sentiment\n",
        "        'confidence': round(result['scores'][0], 2)  # How confident is the model\n",
        "    }\n",
        "\n",
        "# Process all reviews using pandas apply\n",
        "results = reviews_df['text'].apply(analyze_sentiment)\n",
        "\n",
        "# Extract results into separate columns\n",
        "reviews_df['sentiment'] = results.apply(lambda x: x['sentiment'])\n",
        "reviews_df['confidence'] = results.apply(lambda x: x['confidence'])\n",
        "\n",
        "# Print results\n",
        "print(\"\\nSentiment Analysis Results:\")\n",
        "print(\"-\" * 50)\n",
        "for idx, row in reviews_df.iterrows():\n",
        "    print(f\"\\nReview #{idx + 1}\")\n",
        "    # Using string slicing to show a preview of long texts\n",
        "    print(f\"Text: {row['text'][:200]}...\")\n",
        "    print(f\"Sentiment: {row['sentiment']}\")\n",
        "    print(f\"Confidence: {row['confidence']}\")"
      ]
    }
  ]
}